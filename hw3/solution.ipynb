{
 "cells": [
  {
   "cell_type": "code",
   "execution_count": 16,
   "metadata": {},
   "outputs": [],
   "source": [
    "from bs4 import BeautifulSoup\n",
    "import requests\n",
    "import pandas as pd\n",
    "from multiprocessing.dummy import Pool as ThreadPool\n",
    "import re"
   ]
  },
  {
   "cell_type": "code",
   "execution_count": 9,
   "metadata": {},
   "outputs": [],
   "source": [
    "target = {\n",
    "  \"Достоевский Ф. М.\": 9150,\n",
    "  \"Роллинс Дж.\": 59396,\n",
    "  \"Фицджеральд Ф. С.\": 28727,\n",
    "  \"Глуховский Д. А.\": 53427,\n",
    "  \"Стругацкий А. Н.\": 26268,\n",
    "  \"Лукьяненко С. В.\": 16626,\n",
    "  \"Фрай М.\": 28927,\n",
    "  \"Хантер Э.\": 37969,\n",
    "  \"Роулинг Дж. К.\": 104832\n",
    "\n",
    "}"
   ]
  },
  {
   "cell_type": "code",
   "execution_count": 10,
   "metadata": {},
   "outputs": [],
   "source": [
    "def get_author_books(author_id):\n",
    "    template = 'https://www.moscowbooks.ru/catalog/author/{}'\n",
    "    books = []\n",
    "    pg_num = 1\n",
    "    while(True):\n",
    "        for i in range(5):\n",
    "            r = requests.get(template.format(author_id), params = {'page': str(pg_num)})\n",
    "            if r.status_code == 200:\n",
    "                break\n",
    "                \n",
    "        if r.status_code != 200:\n",
    "            print('cant download author {0}, status_code={1}'.format(author_id, r.status_code))\n",
    "            return\n",
    "        \n",
    "        soup = BeautifulSoup(r.text, 'lxml')\n",
    "        tags = soup.find_all('div', class_='book-preview__fav fav js-fav')\n",
    "        res = [tag['data-productid'] for tag in tags]\n",
    "        \n",
    "        if res == []:\n",
    "            break\n",
    "        books += res\n",
    "        pg_num += 1\n",
    "    \n",
    "    return books\n",
    "\n"
   ]
  },
  {
   "cell_type": "code",
   "execution_count": 11,
   "metadata": {},
   "outputs": [],
   "source": [
    "def extract_book_info(book_id):\n",
    "    book_template = 'https://www.moscowbooks.ru/book/{}'\n",
    "    \n",
    "    for i in range(5):\n",
    "        r = requests.get(book_template.format(book_id))\n",
    "        if r.status_code == 200:\n",
    "            break\n",
    "                \n",
    "    if r.status_code != 200:\n",
    "        print('cant download book {0}, status_code={1}'.format(book_id, r.status_code))\n",
    "        return\n",
    "    \n",
    "    soup = BeautifulSoup(r.text, 'lxml')\n",
    "    info = {}\n",
    "    info['Код товара'] = book_id\n",
    "    \n",
    "    tag = soup.find('div', class_='page-header__author')\n",
    "    tags = tag.find_all('a', class_='author-name')\n",
    "    res = ''\n",
    "    for tag in tags:\n",
    "        res = res + tag.text.strip() + ', '\n",
    "        \n",
    "    info['Автор'] = res[:-2]\n",
    "    \n",
    "    info['Название'] = soup.find('meta', property=\"og:title\")['content'].strip()\n",
    "    \n",
    "    tag = soup.find('div', class_='book__shop-details')\n",
    "    info['Наличие'] = (tag.find('span', class_='instock1') != None)\n",
    "    \n",
    "    tag = soup.find('div', class_='book__price')\n",
    "    info['Цена'] = re.sub('\\D', '', tag.text)                       \n",
    "                       \n",
    "    \n",
    "    tag = soup.find('div', class_='book__social')\n",
    "    tag2 = tag.find('div', class_='book__rating', recursive=False)\n",
    "    tag3 = tag2.find('div', class_='book___rating-stars rating-stars rating-stars_lg')\n",
    "    info['Рейтинг'] = tag3['data-rate']\n",
    "    \n",
    "    info['Обложка'] = \"https://www.moscowbooks.ru\" + soup.find('img', class_=\"book__img book__img_default gallery__img\")['src']\n",
    "    \n",
    "    tag=soup.find('div', class_='book__stickers stickers stickers_lg')\n",
    "    if tag:\n",
    "        labels=tag.find_all('div', class_=re.compile('label\\w*'))\n",
    "        if labels:\n",
    "            res = ''\n",
    "            for label in labels:\n",
    "                res = res + label.text + ', ' \n",
    "            info['Стикеры'] = res[:-2]\n",
    "                       \n",
    "    tag = soup.find('div', class_='book__description collapsed js-book-description')\n",
    "    tag.find('b').extract()\n",
    "    tag.find('a').extract()\n",
    "    info['Описание'] = tag.text.strip()                  \n",
    "    \n",
    "    details = soup.find_all('dl', class_='book__details-item')\n",
    "    for a in details:\n",
    "        info[re.sub(':', '', a.find('dt', class_='book__details-name').text.strip())] = a.find('dt', class_='book__details-value').text.strip()\n",
    "    \n",
    "    return info"
   ]
  },
  {
   "cell_type": "code",
   "execution_count": 13,
   "metadata": {},
   "outputs": [],
   "source": [
    "all_books = []\n",
    "for author_id in target.values():\n",
    "    all_books += get_author_books(author_id)"
   ]
  },
  {
   "cell_type": "code",
   "execution_count": 14,
   "metadata": {},
   "outputs": [
    {
     "data": {
      "text/plain": [
       "237"
      ]
     },
     "execution_count": 14,
     "metadata": {},
     "output_type": "execute_result"
    }
   ],
   "source": [
    "len(all_books)"
   ]
  },
  {
   "cell_type": "code",
   "execution_count": 17,
   "metadata": {},
   "outputs": [
    {
     "name": "stdout",
     "output_type": "stream",
     "text": [
      "Wall time: 3min 15s\n"
     ]
    }
   ],
   "source": [
    "%%time\n",
    "\n",
    "with ThreadPool(10) as pool:\n",
    "    res = pool.map(extract_book_info, all_books)\n",
    "pool.join()   "
   ]
  },
  {
   "cell_type": "code",
   "execution_count": 19,
   "metadata": {},
   "outputs": [],
   "source": [
    "df = pd.DataFrame(res)\n",
    "df.sort_values(by=['Код товара'], inplace=True)"
   ]
  },
  {
   "cell_type": "code",
   "execution_count": 21,
   "metadata": {},
   "outputs": [],
   "source": [
    "with open('hw_3.csv', mode='w', encoding='utf-8') as f_csv:\n",
    "    df.to_csv(f_csv, index=False)"
   ]
  }
 ],
 "metadata": {
  "kernelspec": {
   "display_name": "Python 3",
   "language": "python",
   "name": "python3"
  },
  "language_info": {
   "codemirror_mode": {
    "name": "ipython",
    "version": 3
   },
   "file_extension": ".py",
   "mimetype": "text/x-python",
   "name": "python",
   "nbconvert_exporter": "python",
   "pygments_lexer": "ipython3",
   "version": "3.7.3"
  }
 },
 "nbformat": 4,
 "nbformat_minor": 2
}
